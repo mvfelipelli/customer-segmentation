{
 "cells": [
  {
   "cell_type": "markdown",
   "metadata": {},
   "source": [
    "# Obtenção dos Dados"
   ]
  },
  {
   "cell_type": "markdown",
   "metadata": {},
   "source": [
    "## Origem dos dados"
   ]
  },
  {
   "cell_type": "code",
   "execution_count": null,
   "metadata": {},
   "outputs": [],
   "source": [
    "# !pip install kagglehub -U\n",
    "\n",
    "# !pip install pandas -U\n",
    "\n",
    "# !pip install fastparquet"
   ]
  },
  {
   "cell_type": "code",
   "execution_count": null,
   "metadata": {},
   "outputs": [],
   "source": [
    "import kagglehub\n",
    "\n",
    "# Download latest version\n",
    "path = kagglehub.dataset_download(\"olistbr/brazilian-ecommerce\")\n",
    "\n",
    "print(path)\n"
   ]
  },
  {
   "cell_type": "code",
   "execution_count": null,
   "metadata": {},
   "outputs": [],
   "source": [
    "import shutil\n",
    "import os\n",
    "\n",
    "arquivos = os.listdir(path)\n",
    "print(arquivos)\n",
    "\n",
    "for arquivo in arquivos:\n",
    "    source = os.path.join(path, arquivo)\n",
    "    destination = os.path.join(os.getcwd(), arquivo)\n",
    "    shutil.move(source, destination)"
   ]
  },
  {
   "cell_type": "markdown",
   "metadata": {},
   "source": [
    "## Extração dos Dados"
   ]
  },
  {
   "cell_type": "markdown",
   "metadata": {},
   "source": [
    "### Importação dos CSV's dentro de um dictionary de dataframes"
   ]
  },
  {
   "cell_type": "code",
   "execution_count": null,
   "metadata": {},
   "outputs": [],
   "source": [
    "import pandas as pd\n",
    "import os\n",
    "from pathlib import Path\n",
    "\n",
    "pd.set_option('display.max_columns', None)\n",
    "\n",
    "def create_dataframes():\n",
    "    # Dictionary to store our dataframes\n",
    "    df_dict = {}\n",
    "\n",
    "    print(os.getcwd())\n",
    "\n",
    "    csv_files = os.listdir(os.getcwd())\n",
    "    \n",
    "    for file in csv_files:\n",
    "        if file.endswith(\"csv\"):\n",
    "            # Create variable name from filename\n",
    "            # Remove file extension and any special characters\n",
    "            df_name = Path(file.replace('olist','').replace('dataset','')).stem  # Gets filename without extension\n",
    "            df_name = ''.join(c for c in df_name if c.isalnum())  # Remove special chars\n",
    "            \n",
    "            globals()[df_name] = pd.read_csv(file)\n",
    "            \n",
    "            # Also store in dictionary\n",
    "            df_dict[df_name] = globals()[df_name]\n",
    "            \n",
    "            print(f\"Created DataFrame: {df_name}\")\n",
    "            print(f\"Shape: {globals()[df_name].shape}\")\n",
    "            print(\"-\" * 50)\n",
    "\n",
    "    return df_dict\n",
    "\n",
    "dataframes = create_dataframes()\n",
    "\n",
    "\n"
   ]
  },
  {
   "cell_type": "code",
   "execution_count": null,
   "metadata": {},
   "outputs": [],
   "source": [
    "csv_files = os.listdir(os.getcwd())\n",
    "\n",
    "for file in csv_files:\n",
    "    if file.endswith(\"parquet\"):\n",
    "        os.remove(file)"
   ]
  },
  {
   "cell_type": "code",
   "execution_count": null,
   "metadata": {},
   "outputs": [],
   "source": [
    "for name in dataframes.keys():\n",
    "    print(f'Dataset: {name}')\n",
    "    dataframes[name].to_parquet(f\"{name}.parquet\", index=False, engine='fastparquet')"
   ]
  },
  {
   "cell_type": "code",
   "execution_count": null,
   "metadata": {},
   "outputs": [],
   "source": [
    "csv_files = os.listdir(os.getcwd())\n",
    "\n",
    "for file in csv_files:\n",
    "    if file.endswith(\"csv\"):\n",
    "        os.remove(file)"
   ]
  },
  {
   "cell_type": "markdown",
   "metadata": {},
   "source": [
    "#### Primeira visualição dos dados"
   ]
  },
  {
   "cell_type": "code",
   "execution_count": null,
   "metadata": {},
   "outputs": [],
   "source": [
    "for name in dataframes.keys():\n",
    "    print(f'Dataset: {name}')\n",
    "    display(dataframes[name].head())\n",
    "    display(dataframes[name].info())    "
   ]
  },
  {
   "cell_type": "code",
   "execution_count": null,
   "metadata": {},
   "outputs": [],
   "source": [
    "for name in dataframes.keys():\n",
    "    print(f'Dataset: {name}')\n",
    "    display(dataframes[name].columns)\n"
   ]
  },
  {
   "cell_type": "markdown",
   "metadata": {},
   "source": [
    "### Primeiros tratamentos e merge de dataframes"
   ]
  },
  {
   "cell_type": "code",
   "execution_count": null,
   "metadata": {},
   "outputs": [],
   "source": [
    "dataframes['geolocation']"
   ]
  },
  {
   "cell_type": "code",
   "execution_count": null,
   "metadata": {},
   "outputs": [],
   "source": [
    "df_geo_seller = dataframes['geolocation'].copy()\n",
    "\n",
    "df_geo_seller.columns = ['seller_zip_code_prefix', 'geolocation_lat', 'geolocation_lng',\n",
    "       'seller_city', 'seller_state']\n",
    "\n",
    "df_seller = pd.merge(dataframes['sellers'], df_geo_seller,how='left',on=['seller_zip_code_prefix','seller_city','seller_state'])\n",
    "\n",
    "df_seller.head()"
   ]
  },
  {
   "cell_type": "code",
   "execution_count": null,
   "metadata": {},
   "outputs": [],
   "source": [
    "df_seller.to_parquet('sellers.parquet',compression='snappy',engine='fastparquet')"
   ]
  },
  {
   "cell_type": "code",
   "execution_count": null,
   "metadata": {},
   "outputs": [],
   "source": [
    "df_geo_customer = dataframes['geolocation'].copy()\n",
    "\n",
    "df_geo_customer.columns = ['customer_zip_code_prefix', 'geolocation_lat', 'geolocation_lng',\n",
    "       'customer_city', 'customer_state']\n",
    "\n",
    "df_customer = pd.merge(dataframes['customers'], df_geo_customer,how='left',on=['customer_zip_code_prefix','customer_city','customer_state'])\n",
    "df_customer.to_parquet('customers.parquet',compression='snappy',engine='fastparquet')\n",
    "\n",
    "df_customer.head()"
   ]
  },
  {
   "cell_type": "code",
   "execution_count": null,
   "metadata": {},
   "outputs": [],
   "source": [
    "df_orders = pd.merge(dataframes['orders'],dataframes['orderpayments'],how='left',on='order_id')\n",
    "\n",
    "df_orders = pd.merge(df_orders,dataframes['orderreviews'],how='left',on='order_id')\n",
    "\n",
    "df_orders = pd.merge(df_orders,df_customer,how='left',on='customer_id')\n",
    "\n"
   ]
  },
  {
   "cell_type": "code",
   "execution_count": null,
   "metadata": {},
   "outputs": [],
   "source": [
    "df_orderitems = pd.read_parquet('orderitems.parquet',engine='fastparquet')\n",
    "df_products = pd.read_parquet('products.parquet',engine='fastparquet')\n",
    "df_seller = pd.read_parquet('sellers.parquet',engine='fastparquet')\n",
    "\n",
    "df_orderitems = pd.merge(df_orderitems, df_products, how='left', on='product_id')\n",
    "df_orderitems = pd.merge(df_orderitems, df_seller, how='left', on='seller_id')\n",
    "\n",
    "df_orderitems.head()"
   ]
  },
  {
   "cell_type": "code",
   "execution_count": null,
   "metadata": {},
   "outputs": [],
   "source": [
    "df_orderitems['shipping_limit_date'] = pd.to_datetime(df_orderitems['shipping_limit_date'])\n",
    "df_orderitems.to_parquet('orders_item.parquet',compression='snappy',engine='fastparquet')"
   ]
  },
  {
   "cell_type": "code",
   "execution_count": null,
   "metadata": {},
   "outputs": [],
   "source": [
    "df_orders.head()"
   ]
  },
  {
   "cell_type": "code",
   "execution_count": null,
   "metadata": {},
   "outputs": [],
   "source": [
    "df_orders['order_purchase_timestamp'] = pd.to_datetime(df_orders['order_purchase_timestamp'])\n",
    "df_orders['order_delivered_customer_date'] = pd.to_datetime(df_orders['order_delivered_customer_date'])\n",
    "df_orders['order_estimated_delivery_date'] = pd.to_datetime(df_orders['order_estimated_delivery_date'])\n",
    "df_orders['review_creation_date'] = pd.to_datetime(df_orders['review_creation_date'])\n",
    "df_orders['review_answer_timestamp'] = pd.to_datetime(df_orders['review_answer_timestamp'])\n",
    "df_orders.to_parquet('orders.parquet',compression='snappy',engine='fastparquet')"
   ]
  },
  {
   "cell_type": "code",
   "execution_count": null,
   "metadata": {},
   "outputs": [],
   "source": [
    "df_orders.info()"
   ]
  },
  {
   "cell_type": "code",
   "execution_count": null,
   "metadata": {},
   "outputs": [],
   "source": [
    "df_orders.isna().sum()"
   ]
  }
 ],
 "metadata": {
  "kernelspec": {
   "display_name": ".venv",
   "language": "python",
   "name": "python3"
  },
  "language_info": {
   "codemirror_mode": {
    "name": "ipython",
    "version": 3
   },
   "file_extension": ".py",
   "mimetype": "text/x-python",
   "name": "python",
   "nbconvert_exporter": "python",
   "pygments_lexer": "ipython3",
   "version": "3.13.7"
  }
 },
 "nbformat": 4,
 "nbformat_minor": 2
}
